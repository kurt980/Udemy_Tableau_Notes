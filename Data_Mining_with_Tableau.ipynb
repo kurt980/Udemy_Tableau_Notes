{
  "nbformat": 4,
  "nbformat_minor": 0,
  "metadata": {
    "colab": {
      "provenance": [],
      "authorship_tag": "ABX9TyMM/YnkKB4m2zOLrbFVWpke",
      "include_colab_link": true
    },
    "kernelspec": {
      "name": "python3",
      "display_name": "Python 3"
    },
    "language_info": {
      "name": "python"
    }
  },
  "cells": [
    {
      "cell_type": "markdown",
      "metadata": {
        "id": "view-in-github",
        "colab_type": "text"
      },
      "source": [
        "<a href=\"https://colab.research.google.com/github/kurt980/Udemy_Tableau_Notes/blob/main/Data_Mining_with_Tableau.ipynb\" target=\"_parent\"><img src=\"https://colab.research.google.com/assets/colab-badge.svg\" alt=\"Open In Colab\"/></a>"
      ]
    },
    {
      "cell_type": "markdown",
      "source": [
        "***Udemy Data Science A-Z***\n",
        "# **Data Mining with Tableau**"
      ],
      "metadata": {
        "id": "VrtLa6ueg61n"
      }
    },
    {
      "cell_type": "markdown",
      "source": [
        "##**Geography**\n",
        "- Right click on geographical data, choose Geographical role\n",
        "- Can move measures to dimensions"
      ],
      "metadata": {
        "id": "bXWHareuhEY9"
      }
    },
    {
      "cell_type": "markdown",
      "source": [
        "## **Visualize AB Test**\n",
        "- Add table calculation: select drop down menu in variables in Marks\n",
        "- Can add this to any place, put in the rows, will show only percentages\n",
        "- project link:\n",
        "  - https://public.tableau.com/app/profile/kurt.ji/viz/DataMining_Practice1_16762712139700/Geography?publish=yes\n",
        "  - Can change aliases, just like labels, very important\n",
        "- Can add calculated field:\n",
        "  - there is even functions you can write! This gets you the last N chars of a string\n",
        "  - ```\n",
        "    Right(STR([Customer Id]), 1)\n",
        "    ```"
      ],
      "metadata": {
        "id": "IKCWhuIUhEbZ"
      }
    },
    {
      "cell_type": "markdown",
      "source": [],
      "metadata": {
        "id": "yzK8PUpwhFNE"
      }
    },
    {
      "cell_type": "markdown",
      "source": [],
      "metadata": {
        "id": "0eYXgIb2hFP7"
      }
    },
    {
      "cell_type": "markdown",
      "source": [],
      "metadata": {
        "id": "TK0z_8BFhFSr"
      }
    },
    {
      "cell_type": "markdown",
      "source": [],
      "metadata": {
        "id": "hGlsEZklhFU7"
      }
    },
    {
      "cell_type": "markdown",
      "source": [],
      "metadata": {
        "id": "oCqp1E9DhFXP"
      }
    }
  ]
}