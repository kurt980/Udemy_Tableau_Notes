{
  "nbformat": 4,
  "nbformat_minor": 0,
  "metadata": {
    "colab": {
      "provenance": [],
      "authorship_tag": "ABX9TyMNNVxbM7BW9aepeCe38ehg",
      "include_colab_link": true
    },
    "kernelspec": {
      "name": "python3",
      "display_name": "Python 3"
    },
    "language_info": {
      "name": "python"
    }
  },
  "cells": [
    {
      "cell_type": "markdown",
      "metadata": {
        "id": "view-in-github",
        "colab_type": "text"
      },
      "source": [
        "<a href=\"https://colab.research.google.com/github/kurt980/Udemy_Tableau_Notes/blob/main/Tabeau_Notes.ipynb\" target=\"_parent\"><img src=\"https://colab.research.google.com/assets/colab-badge.svg\" alt=\"Open In Colab\"/></a>"
      ]
    },
    {
      "cell_type": "markdown",
      "source": [
        "***Udemy Tableau***\n",
        "# **Tableau Data Analyst/Specialist Desktop Certification**"
      ],
      "metadata": {
        "id": "kk_S-AerbODu"
      }
    },
    {
      "cell_type": "markdown",
      "source": [
        "## Section 1 Preparation"
      ],
      "metadata": {
        "id": "Dtf1dk82bO9z"
      }
    },
    {
      "cell_type": "markdown",
      "source": [
        "## Section 2 First Viz\n"
      ],
      "metadata": {
        "id": "iKlezH7kbPAb"
      }
    },
    {
      "cell_type": "markdown",
      "source": [
        "### **Connect File**\n",
        "- use connect on first page\n",
        "- CD spredsheet used\n",
        "- go to sheets at left bottom corner"
      ],
      "metadata": {
        "id": "NtioGBzpbPC3"
      }
    },
    {
      "cell_type": "markdown",
      "source": [
        "### **User interface**\n",
        "- Tables, Dimensions, Measures, 3 main sections\n",
        "- Columns, Rows, Marks\n",
        "- drag variables to any palce\n",
        "- change chart type at Show me\n",
        "\n",
        "**Bottom Left**\n",
        "- Can change data source\n",
        "- can create new sheet, dashboard, story\n",
        "\n",
        "**Bottom Right**\n",
        "- change tab type"
      ],
      "metadata": {
        "id": "sOMuwvc3bPFn"
      }
    },
    {
      "cell_type": "markdown",
      "source": [
        "**Main Section**\n",
        "- Pages\n",
        "- Filters\n",
        "- Marks\n",
        "- Select multiple columns and hit \"Show Me\" can create multi-variable viz\n",
        "- Use windows to enable and disable bar\n",
        "\n",
        "**Pages vs. Filters**\n",
        "- Pages does not hide empty data, filters does\n",
        "\n",
        "**Granularity**\n",
        "- Details: per variable selection (like group by) can be more than 1\n",
        "\n",
        "**Cards**\n",
        "- Right click to enable or disable\n"
      ],
      "metadata": {
        "id": "xnh691qbbPIf"
      }
    },
    {
      "cell_type": "markdown",
      "source": [
        "###**Hierarchy**\n",
        "\n",
        "**Measures vs. Dimensions**\n",
        "- Dimensions: click \"+\" to get hierarchy\n",
        "- Can sort Months by alphabetic, computer doesn't know and thinks they are variables\n",
        "- Change YEAR to continuous can make it green(a measure), cannot sort anymore\n",
        "- Know your values! Understand if they are continuous or discrete\n",
        "- Green continuous blue discrete"
      ],
      "metadata": {
        "id": "plpuHsB0bPLL"
      }
    },
    {
      "cell_type": "markdown",
      "source": [
        "**Change Measure**\n",
        "- Change aggregation methods in measure sidebar"
      ],
      "metadata": {
        "id": "sc7Vu6ZhbPN_"
      }
    },
    {
      "cell_type": "markdown",
      "source": [
        "### **Aggregation**\n"
      ],
      "metadata": {
        "id": "q10pvw1hbPQr"
      }
    },
    {
      "cell_type": "markdown",
      "source": [],
      "metadata": {
        "id": "jYUUIxBWbPTc"
      }
    },
    {
      "cell_type": "markdown",
      "source": [
        "## Section 3 Publishing Viz"
      ],
      "metadata": {
        "id": "TsBAoWJr6LxJ"
      }
    },
    {
      "cell_type": "markdown",
      "source": [
        "**Publishing**\n",
        "- Go to file and click save\n",
        "- only on Public\n",
        "- will save whole file\n",
        "- can hide your viz on profile"
      ],
      "metadata": {
        "id": "UcF8IoVg6Lz8"
      }
    },
    {
      "cell_type": "markdown",
      "source": [
        "**Exporting as PPT**\n",
        "- go to public profile, can save as many formats\n",
        "- "
      ],
      "metadata": {
        "id": "9u-MJaUx6L2x"
      }
    },
    {
      "cell_type": "markdown",
      "source": [
        "**Additional Exporting**\n",
        "- only on tableau desktop, not on public, fuck!!!\n",
        "- "
      ],
      "metadata": {
        "id": "ZsknhttU6L48"
      }
    },
    {
      "cell_type": "markdown",
      "source": [
        "**Error Saving?**\n",
        "- sign out and sign in again, right bottom"
      ],
      "metadata": {
        "id": "Wr5Mp0N_bPWL"
      }
    },
    {
      "cell_type": "markdown",
      "source": [
        "## Section 3 Developing the Marks Card"
      ],
      "metadata": {
        "id": "26be2dWcH4y1"
      }
    },
    {
      "cell_type": "markdown",
      "source": [
        "###**Tips**\n",
        "\n",
        "**Tips to import data better**\n",
        "- You can edit the data before you import\n",
        "- you can hide columns by the small downward arrow\n",
        "- you can show hidden columns by right top corner\n",
        "- you can change the number of rows shown by changing the number in the top right corner\n",
        "- 2 types of number: decimal and whole\n",
        "- click the type thumbnail to change the type"
      ],
      "metadata": {
        "id": "53eLOZwpH42N"
      }
    },
    {
      "cell_type": "markdown",
      "source": [],
      "metadata": {
        "id": "B0r_4UCcH45R"
      }
    },
    {
      "cell_type": "markdown",
      "source": [],
      "metadata": {
        "id": "c3c7pXE1H48h"
      }
    },
    {
      "cell_type": "markdown",
      "source": [],
      "metadata": {
        "id": "bR452S-FH4_g"
      }
    },
    {
      "cell_type": "markdown",
      "source": [],
      "metadata": {
        "id": "-XtqJ8M2H5Cc"
      }
    },
    {
      "cell_type": "markdown",
      "source": [],
      "metadata": {
        "id": "pVVZDj07H5FY"
      }
    },
    {
      "cell_type": "markdown",
      "source": [],
      "metadata": {
        "id": "GbeaUs1KH5IE"
      }
    }
  ]
}