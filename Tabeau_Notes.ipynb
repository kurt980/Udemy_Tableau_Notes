{
  "nbformat": 4,
  "nbformat_minor": 0,
  "metadata": {
    "colab": {
      "provenance": [],
      "authorship_tag": "ABX9TyNNTh/oZc4Hla7CFUDy8tdk",
      "include_colab_link": true
    },
    "kernelspec": {
      "name": "python3",
      "display_name": "Python 3"
    },
    "language_info": {
      "name": "python"
    }
  },
  "cells": [
    {
      "cell_type": "markdown",
      "metadata": {
        "id": "view-in-github",
        "colab_type": "text"
      },
      "source": [
        "<a href=\"https://colab.research.google.com/github/kurt980/Udemy_Tableau_Notes/blob/main/Tabeau_Notes.ipynb\" target=\"_parent\"><img src=\"https://colab.research.google.com/assets/colab-badge.svg\" alt=\"Open In Colab\"/></a>"
      ]
    },
    {
      "cell_type": "markdown",
      "source": [
        "***Udemy Tableau***\n",
        "# **Tableau Data Analyst/Specialist Desktop Certification**"
      ],
      "metadata": {
        "id": "kk_S-AerbODu"
      }
    },
    {
      "cell_type": "markdown",
      "source": [
        "# Level1"
      ],
      "metadata": {
        "id": "3Ar4DzmGPDqv"
      }
    },
    {
      "cell_type": "markdown",
      "source": [
        "## Section 1 Preparation"
      ],
      "metadata": {
        "id": "Dtf1dk82bO9z"
      }
    },
    {
      "cell_type": "markdown",
      "source": [
        "## Section 2 First Viz\n"
      ],
      "metadata": {
        "id": "iKlezH7kbPAb"
      }
    },
    {
      "cell_type": "markdown",
      "source": [
        "### **Connect File**\n",
        "- use connect on first page\n",
        "- CD spredsheet used\n",
        "- go to sheets at left bottom corner"
      ],
      "metadata": {
        "id": "NtioGBzpbPC3"
      }
    },
    {
      "cell_type": "markdown",
      "source": [
        "### **User interface**\n",
        "- Tables, Dimensions, Measures, 3 main sections\n",
        "- Columns, Rows, Marks\n",
        "- drag variables to any palce\n",
        "- change chart type at Show me\n",
        "\n",
        "**Bottom Left**\n",
        "- Can change data source\n",
        "- can create new sheet, dashboard, story\n",
        "\n",
        "**Bottom Right**\n",
        "- change tab type"
      ],
      "metadata": {
        "id": "sOMuwvc3bPFn"
      }
    },
    {
      "cell_type": "markdown",
      "source": [
        "**Main Section**\n",
        "- Pages\n",
        "- Filters\n",
        "- Marks\n",
        "- Select multiple columns and hit \"Show Me\" can create multi-variable viz\n",
        "- Use windows to enable and disable bar\n",
        "\n",
        "**Pages vs. Filters**\n",
        "- Pages does not hide empty data, filters does\n",
        "\n",
        "**Granularity**\n",
        "- Details: per variable selection (like group by) can be more than 1\n",
        "\n",
        "**Cards**\n",
        "- Right click to enable or disable\n"
      ],
      "metadata": {
        "id": "xnh691qbbPIf"
      }
    },
    {
      "cell_type": "markdown",
      "source": [
        "###**Hierarchy**\n",
        "\n",
        "**Measures vs. Dimensions**\n",
        "- Dimensions: click \"+\" to get hierarchy\n",
        "- Can sort Months by alphabetic, computer doesn't know and thinks they are variables\n",
        "- Change YEAR to continuous can make it green(a measure), cannot sort anymore\n",
        "- Know your values! Understand if they are continuous or discrete\n",
        "- Green continuous blue discrete"
      ],
      "metadata": {
        "id": "plpuHsB0bPLL"
      }
    },
    {
      "cell_type": "markdown",
      "source": [
        "**Change Measure**\n",
        "- Change aggregation methods in measure sidebar"
      ],
      "metadata": {
        "id": "sc7Vu6ZhbPN_"
      }
    },
    {
      "cell_type": "markdown",
      "source": [
        "### **Aggregation**\n"
      ],
      "metadata": {
        "id": "q10pvw1hbPQr"
      }
    },
    {
      "cell_type": "markdown",
      "source": [],
      "metadata": {
        "id": "jYUUIxBWbPTc"
      }
    },
    {
      "cell_type": "markdown",
      "source": [
        "## Section 3 Publishing Viz"
      ],
      "metadata": {
        "id": "TsBAoWJr6LxJ"
      }
    },
    {
      "cell_type": "markdown",
      "source": [
        "**Publishing**\n",
        "- Go to file and click save\n",
        "- only on Public\n",
        "- will save whole file\n",
        "- can hide your viz on profile"
      ],
      "metadata": {
        "id": "UcF8IoVg6Lz8"
      }
    },
    {
      "cell_type": "markdown",
      "source": [
        "**Exporting as PPT**\n",
        "- go to public profile, can save as many formats\n",
        "- "
      ],
      "metadata": {
        "id": "9u-MJaUx6L2x"
      }
    },
    {
      "cell_type": "markdown",
      "source": [
        "**Additional Exporting**\n",
        "- only on tableau desktop, not on public, fuck!!!\n",
        "- "
      ],
      "metadata": {
        "id": "ZsknhttU6L48"
      }
    },
    {
      "cell_type": "markdown",
      "source": [
        "**Error Saving?**\n",
        "- sign out and sign in again, right bottom"
      ],
      "metadata": {
        "id": "Wr5Mp0N_bPWL"
      }
    },
    {
      "cell_type": "markdown",
      "source": [
        "# Level 2"
      ],
      "metadata": {
        "id": "SnpzQUl3QToq"
      }
    },
    {
      "cell_type": "markdown",
      "source": [
        "## Section 4 Developing the Marks Card"
      ],
      "metadata": {
        "id": "26be2dWcH4y1"
      }
    },
    {
      "cell_type": "markdown",
      "source": [
        "###**Tips**\n",
        "\n",
        "**Tips to import data better**\n",
        "- You can edit the data before you import\n",
        "- you can hide columns by the small downward arrow\n",
        "- you can show hidden columns by right top corner\n",
        "- you can change the number of rows shown by changing the number in the top right corner\n",
        "- 2 types of number: decimal and whole\n",
        "- click the type thumbnail to change the type\n",
        "- boolean is true and false\n",
        "- you can change the variable names, but won't change the file\n",
        "- you can also change variable names in sheets, it will change the names for all sheets\n"
      ],
      "metadata": {
        "id": "53eLOZwpH42N"
      }
    },
    {
      "cell_type": "markdown",
      "source": [
        "**Organizing Fields**\n",
        "- can select hide all unused fields\n",
        "  - will hide for all sheets, bad\n",
        "- organize measures\n",
        "  - below group by data source table, there is a group by folder\n",
        "  - after clicking, can create folders\n",
        "\n",
        "**Creating Alias**\n",
        "- right click on a value of a field\n",
        "- edit alias\n",
        "- right click the field to modify aliases\n",
        "- changes will apply to all sheets and permanently"
      ],
      "metadata": {
        "id": "B0r_4UCcH45R"
      }
    },
    {
      "cell_type": "markdown",
      "source": [
        "**Adding Fields using Show Me**\n",
        "- move your mouse on the graphs of Show Me!\n",
        "- you will see how many fields you need for each type of graph\n",
        "- go to analysis and enable/disable legends\n",
        "- change color settings by right clicking on color"
      ],
      "metadata": {
        "id": "c3c7pXE1H48h"
      }
    },
    {
      "cell_type": "markdown",
      "source": [
        "**Choosing between continuous and discrete colors**\n",
        "- holding control and dragg field can copy it\n",
        "- Color palette will change for discrete vs. continuous variables\n",
        "- if color-blind, better use different colors"
      ],
      "metadata": {
        "id": "bR452S-FH4_g"
      }
    },
    {
      "cell_type": "markdown",
      "source": [
        "**Colors in stacked bar charts**\n",
        "- add variables to \"Tooltip\", will not add anything graphical things, but will display the variable"
      ],
      "metadata": {
        "id": "-XtqJ8M2H5Cc"
      }
    },
    {
      "cell_type": "markdown",
      "source": [
        "**Line Charts**\n",
        "- can make multiple line charts with same color with details!\n",
        "- \"Path\" in line chart can show different categories at the same data point\n",
        "\n",
        "**Size Button**\n",
        "- Use size in Bubble charts, great viz!\n",
        "- Can change size range in edit size"
      ],
      "metadata": {
        "id": "pVVZDj07H5FY"
      }
    },
    {
      "cell_type": "markdown",
      "source": [
        "## Section 5 Scatter and Bubble, Data Highlighter\n",
        "\n",
        "FUCK!!!!!!!!!!!!!!!!!!!!!!!!!"
      ],
      "metadata": {
        "id": "nFTgvatxPv2x"
      }
    },
    {
      "cell_type": "markdown",
      "source": [
        "## Section 6 The Page Shelf, Labels and Annotations"
      ],
      "metadata": {
        "id": "GbeaUs1KH5IE"
      }
    },
    {
      "cell_type": "markdown",
      "source": [
        "**Don't want to use filter?**\n",
        "- Above Filters\n",
        "- Can select which to display\n",
        "- Can show trail\n",
        "- Use play button, can play animation"
      ],
      "metadata": {
        "id": "CVW81znX0dBE"
      }
    },
    {
      "cell_type": "markdown",
      "source": [
        "**Animations**\n",
        "- Can change animation speed\n",
        "- "
      ],
      "metadata": {
        "id": "kQFIyyjb0dED"
      }
    },
    {
      "cell_type": "markdown",
      "source": [
        "**Use Marks Labels**\n",
        "- Left click on Label change modify \n",
        "- Can also right click on single points and add or never show marks\n"
      ],
      "metadata": {
        "id": "zfQB4QYW0dHL"
      }
    },
    {
      "cell_type": "markdown",
      "source": [
        "**Annotations**\n",
        "- Right click on workspace, select annotation for the entire viz\n",
        "- right click on a single data point, select annotation for single points"
      ],
      "metadata": {
        "id": "i0u2lR-A0dKP"
      }
    },
    {
      "cell_type": "markdown",
      "source": [
        "**Formatting viz**\n",
        "- right click workspace\n",
        "- "
      ],
      "metadata": {
        "id": "_jTxlNEo0dNo"
      }
    },
    {
      "cell_type": "markdown",
      "source": [
        "# Level 3"
      ],
      "metadata": {
        "id": "ZT5zIrYN0dQ0"
      }
    },
    {
      "cell_type": "markdown",
      "source": [
        "**Dashboard**\n",
        "- Next to add sheet\n",
        "- can put many viz together\n",
        "- drag and move\n",
        "- Use Objects at bottom letf corner to preset spaces"
      ],
      "metadata": {
        "id": "JVjN6VqV0dT4"
      }
    },
    {
      "cell_type": "markdown",
      "source": [
        "**For Each Component**\n",
        "- Right click the black bar on top, can fit to the frame\n",
        "- go to Layout, can show title or not"
      ],
      "metadata": {
        "id": "snfd8y7z0dW0"
      }
    },
    {
      "cell_type": "markdown",
      "source": [
        "**Use Floating Object**\n",
        "- Bottom left corner, can add floating object, not interfering with others\n",
        "- If multiple floating objects, can change the order"
      ],
      "metadata": {
        "id": "F66f6aoA0dZt"
      }
    },
    {
      "cell_type": "markdown",
      "source": [
        "**Layout**\n",
        "- Left hand side, next to dashboard\n",
        "- can put border around objects\n",
        "- change padding, like the padding in CNN\n"
      ],
      "metadata": {
        "id": "raOY-tSb0dcw"
      }
    },
    {
      "cell_type": "markdown",
      "source": [
        "**Device Layout**\n",
        "- In \"Device Preview\", can change device type\n",
        "- Some charts are available for a layout, some not\n",
        "- Go to Dashboard on above menu, can add a new device layout"
      ],
      "metadata": {
        "id": "W5m0TIzX0dfs"
      }
    },
    {
      "cell_type": "markdown",
      "source": [
        "**Dashboard Filters**\n",
        "- Dashboard can have many filters because of many charts included\n",
        "- By default, filters only associate with their original chart\n",
        "- Can apply filters to other charts, same as right click\n",
        "- **Stacked Bar Chart**\n",
        "  - Can use one of the charts as a filter! in the dropdown menu of the chart, select use as filter\n",
        "  - "
      ],
      "metadata": {
        "id": "N6U2-4plMxP3"
      }
    },
    {
      "cell_type": "markdown",
      "source": [
        "**Dashboard-Action**\n",
        "- Actions\n",
        "  - Source sheet and Target sheet, like hyper links with actions\n",
        "\n",
        "- Duplicate dashboard\n",
        "  - Change year to quarter, use action, change target sheet to quarter, can click on one year and show quarter\n",
        "  - "
      ],
      "metadata": {
        "id": "erxjIir1MxSr"
      }
    },
    {
      "cell_type": "markdown",
      "source": [
        "**Best Viz Practice for Dashboards**\n",
        "- Not too much data\n",
        "- Continuous vs. Discrete\n",
        "- Not fancy fonts\n",
        "- Not too many titles"
      ],
      "metadata": {
        "id": "cLEKM3FdMxVf"
      }
    },
    {
      "cell_type": "markdown",
      "source": [
        "**Navigation Button**\n",
        "- Left bottom corner\n",
        "- \"Export\" button can simply export the viz\n",
        "- **\"Stories\" button**\n",
        "  - Bottom, next to new sheet and new dashboard\n",
        "  - Funny function, can add viz to each period "
      ],
      "metadata": {
        "id": "wDZtR5jKMxYH"
      }
    },
    {
      "cell_type": "markdown",
      "source": [],
      "metadata": {
        "id": "GT1qXnunMxak"
      }
    },
    {
      "cell_type": "markdown",
      "source": [],
      "metadata": {
        "id": "6UTJi3KE0dic"
      }
    }
  ]
}