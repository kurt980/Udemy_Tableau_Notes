{
  "nbformat": 4,
  "nbformat_minor": 0,
  "metadata": {
    "colab": {
      "provenance": [],
      "authorship_tag": "ABX9TyPWppPyf/337hlclzrgm6vC",
      "include_colab_link": true
    },
    "kernelspec": {
      "name": "python3",
      "display_name": "Python 3"
    },
    "language_info": {
      "name": "python"
    }
  },
  "cells": [
    {
      "cell_type": "markdown",
      "metadata": {
        "id": "view-in-github",
        "colab_type": "text"
      },
      "source": [
        "<a href=\"https://colab.research.google.com/github/kurt980/Udemy_Tableau_Notes/blob/main/Tabeau_Notes.ipynb\" target=\"_parent\"><img src=\"https://colab.research.google.com/assets/colab-badge.svg\" alt=\"Open In Colab\"/></a>"
      ]
    },
    {
      "cell_type": "markdown",
      "source": [
        "***Udemy Tableau***\n",
        "# **Tableau Data Analyst/Specialist Desktop Certification**"
      ],
      "metadata": {
        "id": "kk_S-AerbODu"
      }
    },
    {
      "cell_type": "markdown",
      "source": [
        "# Level1"
      ],
      "metadata": {
        "id": "3Ar4DzmGPDqv"
      }
    },
    {
      "cell_type": "markdown",
      "source": [
        "## Section 1 Preparation"
      ],
      "metadata": {
        "id": "Dtf1dk82bO9z"
      }
    },
    {
      "cell_type": "markdown",
      "source": [
        "## Section 2 First Viz\n"
      ],
      "metadata": {
        "id": "iKlezH7kbPAb"
      }
    },
    {
      "cell_type": "markdown",
      "source": [
        "### **Connect File**\n",
        "- use connect on first page\n",
        "- CD spredsheet used\n",
        "- go to sheets at left bottom corner"
      ],
      "metadata": {
        "id": "NtioGBzpbPC3"
      }
    },
    {
      "cell_type": "markdown",
      "source": [
        "### **User interface**\n",
        "- Tables, Dimensions, Measures, 3 main sections\n",
        "- Columns, Rows, Marks\n",
        "- drag variables to any palce\n",
        "- change chart type at Show me\n",
        "\n",
        "**Bottom Left**\n",
        "- Can change data source\n",
        "- can create new sheet, dashboard, story\n",
        "\n",
        "**Bottom Right**\n",
        "- change tab type"
      ],
      "metadata": {
        "id": "sOMuwvc3bPFn"
      }
    },
    {
      "cell_type": "markdown",
      "source": [
        "**Main Section**\n",
        "- Pages\n",
        "- Filters\n",
        "- Marks\n",
        "- Select multiple columns and hit \"Show Me\" can create multi-variable viz\n",
        "- Use windows to enable and disable bar\n",
        "\n",
        "**Pages vs. Filters**\n",
        "- Pages does not hide empty data, filters does\n",
        "\n",
        "**Granularity**\n",
        "- Details: per variable selection (like group by) can be more than 1\n",
        "\n",
        "**Cards**\n",
        "- Right click to enable or disable\n"
      ],
      "metadata": {
        "id": "xnh691qbbPIf"
      }
    },
    {
      "cell_type": "markdown",
      "source": [
        "###**Hierarchy**\n",
        "\n",
        "**Measures vs. Dimensions**\n",
        "- Dimensions: click \"+\" to get hierarchy\n",
        "- Can sort Months by alphabetic, computer doesn't know and thinks they are variables\n",
        "- Change YEAR to continuous can make it green(a measure), cannot sort anymore\n",
        "- Know your values! Understand if they are continuous or discrete\n",
        "- Green continuous blue discrete"
      ],
      "metadata": {
        "id": "plpuHsB0bPLL"
      }
    },
    {
      "cell_type": "markdown",
      "source": [
        "**Change Measure**\n",
        "- Change aggregation methods in measure sidebar"
      ],
      "metadata": {
        "id": "sc7Vu6ZhbPN_"
      }
    },
    {
      "cell_type": "markdown",
      "source": [
        "### **Aggregation**\n"
      ],
      "metadata": {
        "id": "q10pvw1hbPQr"
      }
    },
    {
      "cell_type": "markdown",
      "source": [],
      "metadata": {
        "id": "jYUUIxBWbPTc"
      }
    },
    {
      "cell_type": "markdown",
      "source": [
        "## Section 3 Publishing Viz"
      ],
      "metadata": {
        "id": "TsBAoWJr6LxJ"
      }
    },
    {
      "cell_type": "markdown",
      "source": [
        "**Publishing**\n",
        "- Go to file and click save\n",
        "- only on Public\n",
        "- will save whole file\n",
        "- can hide your viz on profile"
      ],
      "metadata": {
        "id": "UcF8IoVg6Lz8"
      }
    },
    {
      "cell_type": "markdown",
      "source": [
        "**Exporting as PPT**\n",
        "- go to public profile, can save as many formats\n",
        "- "
      ],
      "metadata": {
        "id": "9u-MJaUx6L2x"
      }
    },
    {
      "cell_type": "markdown",
      "source": [
        "**Additional Exporting**\n",
        "- only on tableau desktop, not on public, fuck!!!\n",
        "- "
      ],
      "metadata": {
        "id": "ZsknhttU6L48"
      }
    },
    {
      "cell_type": "markdown",
      "source": [
        "**Error Saving?**\n",
        "- sign out and sign in again, right bottom"
      ],
      "metadata": {
        "id": "Wr5Mp0N_bPWL"
      }
    },
    {
      "cell_type": "markdown",
      "source": [
        "# Level 2"
      ],
      "metadata": {
        "id": "SnpzQUl3QToq"
      }
    },
    {
      "cell_type": "markdown",
      "source": [
        "## Section 4 Developing the Marks Card"
      ],
      "metadata": {
        "id": "26be2dWcH4y1"
      }
    },
    {
      "cell_type": "markdown",
      "source": [
        "\n",
        "**Tips to import data better**\n",
        "- You can edit the data before you import\n",
        "- you can hide columns by the small downward arrow\n",
        "- you can show hidden columns by right top corner\n",
        "- you can change the number of rows shown by changing the number in the top right corner\n",
        "- 2 types of number: decimal and whole\n",
        "- click the type thumbnail to change the type\n",
        "- boolean is true and false\n",
        "- you can change the variable names, but won't change the file\n",
        "- you can also change variable names in sheets, it will change the names for all sheets\n"
      ],
      "metadata": {
        "id": "53eLOZwpH42N"
      }
    },
    {
      "cell_type": "markdown",
      "source": [
        "**Organizing Fields**\n",
        "- can select hide all unused fields\n",
        "  - will hide for all sheets, bad\n",
        "- organize measures\n",
        "  - below group by data source table, there is a group by folder\n",
        "  - after clicking, can create folders\n",
        "\n",
        "**Creating Alias**\n",
        "- right click on a value of a field\n",
        "- edit alias\n",
        "- right click the field to modify aliases\n",
        "- changes will apply to all sheets and permanently"
      ],
      "metadata": {
        "id": "B0r_4UCcH45R"
      }
    },
    {
      "cell_type": "markdown",
      "source": [
        "**Adding Fields using Show Me**\n",
        "- move your mouse on the graphs of Show Me!\n",
        "- you will see how many fields you need for each type of graph\n",
        "- go to analysis and enable/disable legends\n",
        "- change color settings by right clicking on color"
      ],
      "metadata": {
        "id": "c3c7pXE1H48h"
      }
    },
    {
      "cell_type": "markdown",
      "source": [
        "**Choosing between continuous and discrete colors**\n",
        "- holding control and dragg field can copy it\n",
        "- Color palette will change for discrete vs. continuous variables\n",
        "- if color-blind, better use different colors"
      ],
      "metadata": {
        "id": "bR452S-FH4_g"
      }
    },
    {
      "cell_type": "markdown",
      "source": [
        "**Colors in stacked bar charts**\n",
        "- add variables to \"Tooltip\", will not add anything graphical things, but will display the variable"
      ],
      "metadata": {
        "id": "-XtqJ8M2H5Cc"
      }
    },
    {
      "cell_type": "markdown",
      "source": [
        "**Line Charts**\n",
        "- can make multiple line charts with same color with details!\n",
        "- \"Path\" in line chart can show different categories at the same data point\n",
        "\n",
        "**Size Button**\n",
        "- Use size in Bubble charts, great viz!\n",
        "- Can change size range in edit size"
      ],
      "metadata": {
        "id": "pVVZDj07H5FY"
      }
    },
    {
      "cell_type": "markdown",
      "source": [
        "## Section 5 Scatter and Bubble, Data Highlighter\n",
        "\n",
        "FUCK!!!!!!!!!!!!!!!!!!!!!!!!!"
      ],
      "metadata": {
        "id": "nFTgvatxPv2x"
      }
    },
    {
      "cell_type": "markdown",
      "source": [
        "## Section 6 The Page Shelf, Labels and Annotations\n",
        "project link : https://public.tableau.com/app/profile/kurt.ji/viz/Section6ex/Sheet2"
      ],
      "metadata": {
        "id": "GbeaUs1KH5IE"
      }
    },
    {
      "cell_type": "markdown",
      "source": [
        "**Don't want to use filter?**\n",
        "- Above Filters\n",
        "- Can select which to display\n",
        "- Can show trail\n",
        "- Use play button, can play animation"
      ],
      "metadata": {
        "id": "CVW81znX0dBE"
      }
    },
    {
      "cell_type": "markdown",
      "source": [
        "**Animations**\n",
        "- Can change animation speed\n",
        "- "
      ],
      "metadata": {
        "id": "kQFIyyjb0dED"
      }
    },
    {
      "cell_type": "markdown",
      "source": [
        "**Use Marks Labels**\n",
        "- Left click on Label change modify \n",
        "- Can also right click on single points and add or never show marks\n"
      ],
      "metadata": {
        "id": "zfQB4QYW0dHL"
      }
    },
    {
      "cell_type": "markdown",
      "source": [
        "**Annotations**\n",
        "- Right click on workspace, select annotation for the entire viz\n",
        "- right click on a single data point, select annotation for single points"
      ],
      "metadata": {
        "id": "i0u2lR-A0dKP"
      }
    },
    {
      "cell_type": "markdown",
      "source": [
        "**Formatting viz**\n",
        "- right click workspace\n",
        "- "
      ],
      "metadata": {
        "id": "_jTxlNEo0dNo"
      }
    },
    {
      "cell_type": "markdown",
      "source": [
        "# Level 3"
      ],
      "metadata": {
        "id": "ZT5zIrYN0dQ0"
      }
    },
    {
      "cell_type": "markdown",
      "source": [
        "## Section 7"
      ],
      "metadata": {
        "id": "b1-uyi3CsTrY"
      }
    },
    {
      "cell_type": "markdown",
      "source": [
        "**Dashboard**\n",
        "- Next to add sheet\n",
        "- can put many viz together\n",
        "- drag and move\n",
        "- Use Objects at bottom letf corner to preset spaces"
      ],
      "metadata": {
        "id": "JVjN6VqV0dT4"
      }
    },
    {
      "cell_type": "markdown",
      "source": [
        "**For Each Component**\n",
        "- Right click the black bar on top, can fit to the frame\n",
        "- go to Layout, can show title or not"
      ],
      "metadata": {
        "id": "snfd8y7z0dW0"
      }
    },
    {
      "cell_type": "markdown",
      "source": [
        "**Use Floating Object**\n",
        "- Bottom left corner, can add floating object, not interfering with others\n",
        "- If multiple floating objects, can change the order"
      ],
      "metadata": {
        "id": "F66f6aoA0dZt"
      }
    },
    {
      "cell_type": "markdown",
      "source": [
        "**Layout**\n",
        "- Left hand side, next to dashboard\n",
        "- can put border around objects\n",
        "- change padding, like the padding in CNN\n"
      ],
      "metadata": {
        "id": "raOY-tSb0dcw"
      }
    },
    {
      "cell_type": "markdown",
      "source": [
        "**Device Layout**\n",
        "- In \"Device Preview\", can change device type\n",
        "- Some charts are available for a layout, some not\n",
        "- Go to Dashboard on above menu, can add a new device layout"
      ],
      "metadata": {
        "id": "W5m0TIzX0dfs"
      }
    },
    {
      "cell_type": "markdown",
      "source": [
        "**Dashboard Filters**\n",
        "- Dashboard can have many filters because of many charts included\n",
        "- By default, filters only associate with their original chart\n",
        "- Can apply filters to other charts, same as right click\n",
        "- **Stacked Bar Chart**\n",
        "  - Can use one of the charts as a filter! in the dropdown menu of the chart, select use as filter\n",
        "  - "
      ],
      "metadata": {
        "id": "N6U2-4plMxP3"
      }
    },
    {
      "cell_type": "markdown",
      "source": [
        "**Dashboard-Action**\n",
        "- Actions\n",
        "  - Source sheet and Target sheet, like hyper links with actions\n",
        "\n",
        "- Duplicate dashboard\n",
        "  - Change year to quarter, use action, change target sheet to quarter, can click on one year and show quarter\n",
        "  - "
      ],
      "metadata": {
        "id": "erxjIir1MxSr"
      }
    },
    {
      "cell_type": "markdown",
      "source": [
        "**Best Viz Practice for Dashboards**\n",
        "- Not too much data\n",
        "- Continuous vs. Discrete\n",
        "- Not fancy fonts\n",
        "- Not too many titles"
      ],
      "metadata": {
        "id": "cLEKM3FdMxVf"
      }
    },
    {
      "cell_type": "markdown",
      "source": [
        "**Navigation Button**\n",
        "- Left bottom corner\n",
        "- \"Export\" button can simply export the viz\n",
        "- **\"Stories\" button**\n",
        "  - Bottom, next to new sheet and new dashboard\n",
        "  - Funny function, can add viz to each period "
      ],
      "metadata": {
        "id": "wDZtR5jKMxYH"
      }
    },
    {
      "cell_type": "markdown",
      "source": [
        "# Level 4"
      ],
      "metadata": {
        "id": "3YdPh7P7sP9N"
      }
    },
    {
      "cell_type": "markdown",
      "source": [
        "## Section 8 Maps\n",
        "https://public.tableau.com/app/profile/kurt.ji/viz/Section8_Practice1/Maps?publish=yes"
      ],
      "metadata": {
        "id": "GT1qXnunMxak"
      }
    },
    {
      "cell_type": "markdown",
      "source": [
        "**Maps**\n",
        "- Geological roles, need to assign and drag to the columns and rows\n",
        "- for each point, can right click and select **group**, using rectangle, lasso\n",
        "- Can use **Density** in Marks, just like a heatmap\n",
        "- Go to **Map** on the top, select **background layer**\n",
        "- Can select **Data Layer**, built-in information, mostly american\n"
      ],
      "metadata": {
        "id": "cK2WDDafsLHT"
      }
    },
    {
      "cell_type": "markdown",
      "source": [
        "## Section 9 Organizing and Simplifying Data\n",
        "https://public.tableau.com/app/profile/kurt.ji/viz/Section9_Practice1/Sets?publish=yes"
      ],
      "metadata": {
        "id": "d-T0Dl1TsLJy"
      }
    },
    {
      "cell_type": "markdown",
      "source": [
        "**Hierarchy**\n",
        "- Drag something onto another thing\n",
        "- Hierarchy will change how filters work"
      ],
      "metadata": {
        "id": "5w6bqWsEsLMW"
      }
    },
    {
      "cell_type": "markdown",
      "source": [
        "**Sorting**\n",
        "- Can do custom order by selecting **Manual Order**\n",
        "- "
      ],
      "metadata": {
        "id": "4MVrKEfLsLO_"
      }
    },
    {
      "cell_type": "markdown",
      "source": [
        "**Change Default Properties**\n",
        "- Right click variables on the left hand side panel, change sort, shape, color\n",
        "- Works well if you need to do many viz\n",
        "- Can also change **Date format**"
      ],
      "metadata": {
        "id": "MvgtrptA3Fh9"
      }
    },
    {
      "cell_type": "markdown",
      "source": [
        "**Build Groups**\n",
        "- Right click to add group\n",
        "- In Edit Group, select 'Include 'Other'' to use Other\n"
      ],
      "metadata": {
        "id": "TqwW_6rm3FlF"
      }
    },
    {
      "cell_type": "markdown",
      "source": [
        "**Build Sets**\n",
        "- Show members vs. show IN/OUT\n",
        "- Create combined set from multiple sets\n",
        "- "
      ],
      "metadata": {
        "id": "HpABGXJs3Fni"
      }
    },
    {
      "cell_type": "markdown",
      "source": [
        "# Level 5"
      ],
      "metadata": {
        "id": "SP2LvBTpsLRi"
      }
    },
    {
      "cell_type": "markdown",
      "source": [
        "## Section 10: Field and Chart Types\n",
        "https://public.tableau.com/app/profile/kurt.ji/viz/Section10_Practice1/Axis?publish=yes"
      ],
      "metadata": {
        "id": "7NotMUyGsLTy"
      }
    },
    {
      "cell_type": "markdown",
      "source": [
        "**Auto-generated Fields**\n",
        "- Measure Values and Measure Names\n",
        "- Pie chart and\n",
        "- "
      ],
      "metadata": {
        "id": "aj9pCoWBk6v_"
      }
    },
    {
      "cell_type": "markdown",
      "source": [
        "**Titles, captions and tooltips**\n",
        "- Tooltips: edit\n",
        "  - Add text\n",
        "  - Insert:\n",
        "    - All fields\n",
        "- Title\n",
        "  - Edit and format\n",
        "  - \n",
        "- Captions\n",
        "  - Second to top menu, above columns\n",
        "- Decribe worksheet\n",
        "  - Top menu, go to worksheet"
      ],
      "metadata": {
        "id": "Wc5_lNG9k6zy"
      }
    },
    {
      "cell_type": "markdown",
      "source": [
        "**Vizzes in Tooltip**\n",
        "- Add sheet in tool tip, using Insert\n",
        "- Can use filter on tooltip referneces\n",
        "- **To change filter in tooltip, the field has to be in the filter for the main sheet!**"
      ],
      "metadata": {
        "id": "lK4JI5t1k62c"
      }
    },
    {
      "cell_type": "markdown",
      "source": [
        "**Edit Axis**\n",
        "- Select axis range"
      ],
      "metadata": {
        "id": "Lozs4LDMk65D"
      }
    },
    {
      "cell_type": "markdown",
      "source": [
        "**Creating Bins**\n",
        "- a bit covered in data mining course\n",
        "- Bins are dimensions\n",
        "\n",
        "**Histogram**\n",
        "- Needs bins to create!"
      ],
      "metadata": {
        "id": "cZSE0reyk672"
      }
    },
    {
      "cell_type": "markdown",
      "source": [
        "**Heatmap and Cross tabs**\n",
        "- Nothing fancy\n",
        "\n",
        "**Treemap**\n",
        "- Pretty similar to heat map"
      ],
      "metadata": {
        "id": "aboH1lp7k6-a"
      }
    },
    {
      "cell_type": "markdown",
      "source": [
        "**Dual Axis**\n",
        "- Must select the additional axis to add dual axis\n",
        "- Use syncronized axis to display same scale"
      ],
      "metadata": {
        "id": "U4ecwm7yk7BH"
      }
    },
    {
      "cell_type": "markdown",
      "source": [
        "**Matrix Scatter Plots**\n",
        "- Drag one dimension to the column and another to the row"
      ],
      "metadata": {
        "id": "AFt_k_xLk7Di"
      }
    },
    {
      "cell_type": "markdown",
      "source": [
        "## Section 11 Advanced Field and Chart Types\n",
        "https://public.tableau.com/app/profile/kurt.ji/viz/Section10_Practice2/Analytics?publish=yes"
      ],
      "metadata": {
        "id": "lMz4GEt_k7Gi"
      }
    },
    {
      "cell_type": "markdown",
      "source": [
        "**Instant Analytics - Constant and Average Lines**\n",
        "- Reference Line\n",
        "  - Can add constant line, average and others\n",
        "  - Analytics next to Data\n",
        "  - Can select reference line levels\n",
        "\n",
        "**Model**\n",
        "- Confidence Interval\n",
        "- Add custom reference lines\n",
        "  - Line\n",
        "    - any line\n",
        "  - Band\n",
        "    - a range\n",
        "  - Distribution\n",
        "    - CDF mark"
      ],
      "metadata": {
        "id": "ZmKRZix5k7JG"
      }
    },
    {
      "cell_type": "markdown",
      "source": [
        "**Box plot**\n",
        "- Whisker: 1.5 times ??\n",
        "- Can rotate 90 degrees\n",
        "- Summary\n",
        "  - Skewness\n",
        "  - Excess Kurtosis"
      ],
      "metadata": {
        "id": "Y99zjJeXk7Lv"
      }
    },
    {
      "cell_type": "markdown",
      "source": [
        "**Bullet graphs**\n",
        "- Like bar charts but horizontal\n",
        "- can have multiple measures"
      ],
      "metadata": {
        "id": "BDbn77A-k7Oi"
      }
    },
    {
      "cell_type": "markdown",
      "source": [
        "**Quick Table Calculations**\n",
        "- Running totals, running totals follow a direction, need to specify\n",
        "- Revisited in Section 14"
      ],
      "metadata": {
        "id": "8_juOZaek7TT"
      }
    },
    {
      "cell_type": "markdown",
      "source": [
        "**Pareto**\n",
        "- 80-20 rule\n",
        "- Secondary calculation, get running total percentage"
      ],
      "metadata": {
        "id": "cd1VbvKZK9uv"
      }
    },
    {
      "cell_type": "markdown",
      "source": [
        "# Level 6"
      ],
      "metadata": {
        "id": "fTwYZjMfK9x6"
      }
    },
    {
      "cell_type": "markdown",
      "source": [
        "## Section 12 Gantt Bar Chart, Calculations and Date\n",
        "https://public.tableau.com/app/profile/kurt.ji/viz/Section12_Practice/Last?publish=yes"
      ],
      "metadata": {
        "id": "zbnnd0omK91G"
      }
    },
    {
      "cell_type": "markdown",
      "source": [
        "**Gantt Bar Charts**\n",
        "- Good for time durations\n",
        "\n",
        "**Sparkline**\n",
        "- Show trend across time"
      ],
      "metadata": {
        "id": "B8SA22LoK94K"
      }
    },
    {
      "cell_type": "markdown",
      "source": [
        "**Data Calculation**\n",
        "\n",
        "***Functions***\n",
        "- **Date**\n",
        "  - Select from DATE\n",
        "\n",
        "- **Ad Hoc Calcs**\n",
        "  - Double click empty area\n",
        "\n",
        "- **Trend Lines**\n",
        "  - Fit regression\n",
        "\n",
        "- **Forcast**\n",
        "  - Use fit line to forcast\n",
        "  - Formula unknown"
      ],
      "metadata": {
        "id": "He1uo4EkK97X"
      }
    },
    {
      "cell_type": "markdown",
      "source": [
        "## Section 13 Working with Data Source"
      ],
      "metadata": {
        "id": "F2RRtpW4k7V4"
      }
    },
    {
      "cell_type": "markdown",
      "source": [
        "**Relationship**\n",
        "- A feature that allows relationship between multiple data sets\n",
        "- To create a join, double click on an attribute and add another table"
      ],
      "metadata": {
        "id": "Qol2Gba6k7Ye"
      }
    },
    {
      "cell_type": "markdown",
      "source": [
        "## Section 14 Calculations\n",
        "\n",
        "https://public.tableau.com/app/profile/kurt.ji/viz/Section14_Practice1/Predictive?publish=yes"
      ],
      "metadata": {
        "id": "cXMji6kLoEEc"
      }
    },
    {
      "cell_type": "markdown",
      "source": [
        "**Aggregation**\n",
        "- Add calculation field\n",
        "- Automatically aggregate on 'Columns'"
      ],
      "metadata": {
        "id": "5QNQeTqToEHX"
      }
    },
    {
      "cell_type": "markdown",
      "source": [
        "**Logical Operators**\n",
        "- IF ELSEIF ELSE END\n",
        "- IIF (,,)\n",
        "- CASE WHEN THEN WHEN THEN END"
      ],
      "metadata": {
        "id": "mhOWs4-8oEKD"
      }
    },
    {
      "cell_type": "markdown",
      "source": [
        "**String Methods**\n",
        "- LEFT / RIGHT\n",
        "- FIND\n",
        "- CONTAINS\n",
        "- TRIM\n",
        "  - Need to revisit\n",
        "- LEN\n",
        "- UPPER/LOWER\n",
        "- \\+\n",
        "  - just concatenate"
      ],
      "metadata": {
        "id": "h123GTh4oENP"
      }
    },
    {
      "cell_type": "markdown",
      "source": [
        "**Date Methods**\n",
        "- DATEADD('month', 3, [Start])\n",
        "- DATETRUNC\n"
      ],
      "metadata": {
        "id": "PodC7jhkoEQP"
      }
    },
    {
      "cell_type": "markdown",
      "source": [
        "**Type Conversion Functions**\n",
        "- STR\n",
        "- INT, same as TRUNC in Excel\n",
        "- FLOAT\n",
        "- MAKEDATE and MAKETIME\n",
        "  - Convert string to date and vice versa"
      ],
      "metadata": {
        "id": "Wy-l8BMroET7"
      }
    },
    {
      "cell_type": "markdown",
      "source": [
        "**Arithmatic Calculations**\n",
        "- ABS and SIGN\n",
        "- DIV\n",
        "  - FLOOR divide\n",
        "- LOG\n",
        "- CEILING"
      ],
      "metadata": {
        "id": "FbtsPQyVoEXP"
      }
    },
    {
      "cell_type": "markdown",
      "source": [
        "**Grand Total and Subtotal**\n",
        "- Row sum, column sum\n",
        "- Can calcualte subtotal for each level of variable\n",
        "- Can go to analysis and select total methods"
      ],
      "metadata": {
        "id": "L89qH4wWoEad"
      }
    },
    {
      "cell_type": "markdown",
      "source": [
        "**Quick Calculation Revisited**\n",
        "- Double click quick calculation and modify the formula\n",
        "- Year over year increment:\n",
        "  - ZN() convert null as 0\n",
        "  - LOOKUP() gets last year\n",
        "- Year to date total\n",
        "  - INDEX()\n",
        "  - FIRST()\n",
        "  - LAST()\n",
        "- RANK()\n",
        "  - gives a rank based on a value\n",
        "  - asc and desc\n",
        "  - default is desc\n"
      ],
      "metadata": {
        "id": "HyNMBg_BoEds"
      }
    },
    {
      "cell_type": "markdown",
      "source": [
        "**Predictive Model**\n",
        "- Calculated field - table calculation\n",
        "- Get the column variable, Extend it to get prediction\n",
        "- MODEL_QUANTILE()\n",
        "  - quantile\n",
        "    - **probability** that the actual data is larger than the prediction\n",
        "  - model\n",
        "    - linear\n",
        "      - linear\n",
        "    - rl\n",
        "      - regularized linear\n",
        "    - gp\n",
        "      - gaussian process regression\n",
        "      - https://towardsdatascience.com/quick-start-to-gaussian-process-regression-36d838810319\n",
        "\n",
        "- MODEL_PERCENTILE\n",
        "  - Probability the expected is less than the observed?"
      ],
      "metadata": {
        "id": "OrKY8Xc7oEgw"
      }
    },
    {
      "cell_type": "markdown",
      "source": [
        "## Section 15 Parameters"
      ],
      "metadata": {
        "id": "HexyVXploEj0"
      }
    },
    {
      "cell_type": "markdown",
      "source": [
        "**Parameter**\n",
        "- Works like a filter, but more convenient\n",
        "- **Dynamic Parameter**\n",
        "  - When workbook opens\n",
        "\n",
        "- **Dynamic reference line**\n",
        "  - set the reference line equal to parameter created"
      ],
      "metadata": {
        "id": "ORPZxtL9oEms"
      }
    },
    {
      "cell_type": "markdown",
      "source": [
        "# Level 7"
      ],
      "metadata": {
        "id": "2Re-iKfXZF67"
      }
    },
    {
      "cell_type": "markdown",
      "source": [
        "## Section 16 LOD\n",
        "https://public.tableau.com/app/profile/kurt.ji/viz/Section16_Practice1/DragLOD"
      ],
      "metadata": {
        "id": "_BEarptNZF97"
      }
    },
    {
      "cell_type": "markdown",
      "source": [
        "- To show on/off, can easily build a calculation field.\n",
        "- Use calculated field to do a running field: RUNNINGSUM(sum())\n",
        "- out-of-context fixed LOD\n",
        "  - use FIXED\n",
        "  - use FIXED [variable] to get additional levels of details"
      ],
      "metadata": {
        "id": "IyF8uSiUZGDD"
      }
    },
    {
      "cell_type": "markdown",
      "source": [
        "**Context Filter**\n",
        "- Change to context filter will allow a calculated field to move with the filter! "
      ],
      "metadata": {
        "id": "Wh4ZV6KlZGGT"
      }
    },
    {
      "cell_type": "markdown",
      "source": [
        "**Dragging Fixed LODs**\n",
        "- Hold control and drag measure into dimension, will get a quick fixed lod!"
      ],
      "metadata": {
        "id": "yRrd6U6SZGJj"
      }
    },
    {
      "cell_type": "markdown",
      "source": [
        "## Section 17 Data Connections Part I\n",
        "https://public.tableau.com/app/profile/kurt.ji/viz/Section17_Practice1/DataConnection?publish=yes"
      ],
      "metadata": {
        "id": "qiw4rgHKZGMY"
      }
    },
    {
      "cell_type": "markdown",
      "source": [
        "**Want to Join but Same Values Different Format?**\n",
        "- Go to Create Join Calculation, like ON in SQL\n",
        "- Use calculated field, functions like MID, INT, etc."
      ],
      "metadata": {
        "id": "3Yg9uGnfZGPY"
      }
    },
    {
      "cell_type": "markdown",
      "source": [
        "**Using Union**\n",
        "- Union tables in Data Connection"
      ],
      "metadata": {
        "id": "nuFXqbbWKQal"
      }
    },
    {
      "cell_type": "markdown",
      "source": [
        "**Blending**\n",
        "- Join can cause duplicated data, blend don't\n",
        "- Add a new data connection\n",
        "- Can change relation details in Data: edit relationships\n",
        "- \\* if more than one"
      ],
      "metadata": {
        "id": "0DzFVdenKQd9"
      }
    },
    {
      "cell_type": "markdown",
      "source": [
        "https://public.tableau.com/app/profile/kurt.ji/viz/Section17_Practice1/DataConnection?publish=yes"
      ],
      "metadata": {
        "id": "_hwm43W0KQg5"
      }
    },
    {
      "cell_type": "markdown",
      "source": [
        "**Deal with Scarse Table**\n",
        "- Use interpreter to format data\n",
        "- Use Pivot to get different representation of data"
      ],
      "metadata": {
        "id": "sasE62UBKQkC"
      }
    },
    {
      "cell_type": "markdown",
      "source": [
        "**Connect to Different File Types**\n",
        "- csv and txt are both Text files\n",
        "- Select methods to split text"
      ],
      "metadata": {
        "id": "3HjflhxtKQm6"
      }
    },
    {
      "cell_type": "markdown",
      "source": [
        "# Level 8"
      ],
      "metadata": {
        "id": "yLaSRaw2KQp2"
      }
    },
    {
      "cell_type": "markdown",
      "source": [
        "## Section 18 Data Connections 2"
      ],
      "metadata": {
        "id": "jlQw42qTKQtG"
      }
    },
    {
      "cell_type": "markdown",
      "source": [
        "**Desktop**\n",
        "- Connects to many types of file\n",
        "- Connects to SQL server\n",
        "- I don't have SQL server, haha\n",
        "- Extract\n",
        "  - blah blah blah"
      ],
      "metadata": {
        "id": "2Tx-FzS6KQvr"
      }
    },
    {
      "cell_type": "markdown",
      "source": [
        "**Metadata**\n",
        "\n",
        "**Shadow Extract**\n",
        " "
      ],
      "metadata": {
        "id": "EMBZl8RYKQyq"
      }
    },
    {
      "cell_type": "markdown",
      "source": [
        "## Section 19 Tableau Desktop"
      ],
      "metadata": {
        "id": "3nqD4E4AKQ1e"
      }
    },
    {
      "cell_type": "markdown",
      "source": [
        "**Publishing and Printing**\n",
        "\n",
        "**Extract Filters**\n",
        "- \n",
        "****"
      ],
      "metadata": {
        "id": "trBGKky-ZGSY"
      }
    },
    {
      "cell_type": "markdown",
      "source": [
        "## Section 20 Data Flows"
      ],
      "metadata": {
        "id": "lWPoKxRxZGVw"
      }
    },
    {
      "cell_type": "markdown",
      "source": [
        "**Data Flows**\n",
        "- Like a pipeline\n",
        "- Output flow to save\n",
        "\n",
        "**Managinbg Data Flow**\n",
        "- "
      ],
      "metadata": {
        "id": "6UTJi3KE0dic"
      }
    },
    {
      "cell_type": "markdown",
      "source": [
        "# Section 21 Bonus section"
      ],
      "metadata": {
        "id": "dG8CJTRsGEIu"
      }
    },
    {
      "cell_type": "markdown",
      "source": [
        "**Motion Charts**\n",
        "- Use Pages, show traits\n",
        "\n",
        "**Bar Charts in front of each other**\n",
        "- https://public.tableau.com/app/profile/kurt.ji/viz/Section20_Practice1/MotionCharts?publish=yes"
      ],
      "metadata": {
        "id": "HYGy1_GgGELW"
      }
    },
    {
      "cell_type": "markdown",
      "source": [
        "**INCLUDE LOD**\n",
        "- Get one level deeper LOD level\n",
        "\n",
        "**EXCLUDE LOD**\n",
        "- Difference with FIXED\n",
        "  - Three levels: Year, Region, House\n",
        "  - FIXED: only shows year\n",
        "  - EXCLUDE: shows year and house\n",
        "\n",
        "https://www.tableau.com/blog/LOD-expressions\n",
        "\n",
        "https://public.tableau.com/app/profile/kurt.ji/viz/Section20_Practice2/EXCLUDELOD"
      ],
      "metadata": {
        "id": "UQ3B1TlTtXLL"
      }
    },
    {
      "cell_type": "markdown",
      "source": [
        "**Spatial Files**\n",
        "\n",
        "https://public.tableau.com/app/profile/kurt.ji/viz/Section21_Practice3/Sheet1?publish=yes\n"
      ],
      "metadata": {
        "id": "UYiZ23IytXOj"
      }
    },
    {
      "cell_type": "markdown",
      "source": [
        "**Geocoding**\n",
        "- Map -> Geocoding\n",
        "- For some locations not interpretable by geospatial"
      ],
      "metadata": {
        "id": "5Uad8FQmtXRg"
      }
    },
    {
      "cell_type": "markdown",
      "source": [
        "**Background Map**\n",
        "- Snipping Tool in Windows\n",
        "- Add a custom floor plan in the background!"
      ],
      "metadata": {
        "id": "qwE88QRktXUU"
      }
    },
    {
      "cell_type": "markdown",
      "source": [
        "### Data Connections\n",
        "- **Performance Optimization**\n",
        "  - Parallel query\n",
        "  - Data engine vectorization\n",
        "  - Parallel aggregation\n",
        "  - External query caching\n",
        "  - Query fusion"
      ],
      "metadata": {
        "id": "dwRxq2rUtXW8"
      }
    },
    {
      "cell_type": "markdown",
      "source": [
        "# Certification"
      ],
      "metadata": {
        "id": "euumuawPGEOD"
      }
    },
    {
      "cell_type": "markdown",
      "source": [
        "#"
      ],
      "metadata": {
        "id": "Od_g8rMZBAz9"
      }
    }
  ]
}